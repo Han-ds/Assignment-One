{
 "cells": [
  {
   "cell_type": "code",
   "execution_count": 18,
   "metadata": {},
   "outputs": [
    {
     "name": "stdout",
     "output_type": "stream",
     "text": [
      "Twinkle, twinkle, little star, \n",
      "      How I wonder what you are! \n",
      "            Up above the world so high, \n",
      "            Like a diamond in the sky \n",
      " Twinkle, twinkle, little star, \n",
      "       How I wonder what you are!\n"
     ]
    }
   ],
   "source": [
    "print(\"Twinkle, twinkle, little star, \\n      How I wonder what you are! \\n            Up above the world so high, \\n            Like a diamond in the sky \\n Twinkle, twinkle, little star, \\n       How I wonder what you are!\") "
   ]
  },
  {
   "cell_type": "code",
   "execution_count": 19,
   "metadata": {},
   "outputs": [
    {
     "name": "stdout",
     "output_type": "stream",
     "text": [
      "THE VERSION OF PYTHON IS = 3.7.4 (default, Aug 13 2019, 15:17:50) \n",
      "[Clang 4.0.1 (tags/RELEASE_401/final)]\n"
     ]
    }
   ],
   "source": [
    "import sys\n",
    "print(\"THE VERSION OF PYTHON IS = \"+ sys.version)"
   ]
  },
  {
   "cell_type": "code",
   "execution_count": 21,
   "metadata": {},
   "outputs": [
    {
     "name": "stdout",
     "output_type": "stream",
     "text": [
      "Current Date and Time is = 04-11-2019 12:21:08\n"
     ]
    }
   ],
   "source": [
    "import datetime\n",
    "now=datetime.datetime.now()\n",
    "print(\"Current Date and Time is = \" + now.strftime(\"%d-%m-%Y %H:%M:%S\"))\n",
    "#print(datetime.datetime.now())"
   ]
  },
  {
   "cell_type": "code",
   "execution_count": 27,
   "metadata": {},
   "outputs": [
    {
     "name": "stdout",
     "output_type": "stream",
     "text": [
      "Enter the radius of circle = 3.0\n",
      "THE AREA OF CIRCLE IS = 28.278\n"
     ]
    }
   ],
   "source": [
    "r=float(input(\"Enter the radius of circle = \"))\n",
    "area=3.142*r*r\n",
    "print(\"THE AREA OF CIRCLE IS = \" + str(area))"
   ]
  },
  {
   "cell_type": "code",
   "execution_count": 23,
   "metadata": {},
   "outputs": [
    {
     "name": "stdout",
     "output_type": "stream",
     "text": [
      "Enter first name = abdul\n",
      "Enter Last name = hannan\n",
      "The reverse name is = hannan abdul\n"
     ]
    }
   ],
   "source": [
    "x=input(\"Enter first name = \")\n",
    "y=input(\"Enter Last name = \")\n",
    "x,y=y,x\n",
    "print(\"The reverse name is = \"+x,y)"
   ]
  },
  {
   "cell_type": "code",
   "execution_count": 24,
   "metadata": {},
   "outputs": [
    {
     "name": "stdout",
     "output_type": "stream",
     "text": [
      "enter 1st no = 1\n",
      "enter 2nd no = 2\n",
      "Sum is =  3\n"
     ]
    }
   ],
   "source": [
    "a=int(input(\"enter 1st no = \"))\n",
    "b=int(input(\"enter 2nd no = \"))\n",
    "c=a+b\n",
    "print(\"Sum is = \",c)"
   ]
  },
  {
   "cell_type": "code",
   "execution_count": null,
   "metadata": {},
   "outputs": [],
   "source": []
  }
 ],
 "metadata": {
  "kernelspec": {
   "display_name": "Python 3",
   "language": "python",
   "name": "python3"
  },
  "language_info": {
   "codemirror_mode": {
    "name": "ipython",
    "version": 3
   },
   "file_extension": ".py",
   "mimetype": "text/x-python",
   "name": "python",
   "nbconvert_exporter": "python",
   "pygments_lexer": "ipython3",
   "version": "3.7.4"
  }
 },
 "nbformat": 4,
 "nbformat_minor": 2
}
